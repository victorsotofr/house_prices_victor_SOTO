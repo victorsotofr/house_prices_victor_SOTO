{
 "cells": [
  {
   "cell_type": "code",
   "execution_count": 8,
   "metadata": {},
   "outputs": [],
   "source": [
    "import numpy as np\n",
    "import pandas as pd\n",
    "\n",
    "from utils import get_train_data\n",
    "from FeatureEngineering import _encode\n",
    "# We will do categorical encoding, and not use the integrated module of XGBoost\n",
    "# supposed to handle these categorical variables\n",
    "\n",
    "# from sklearn.pipeline import make_pipeline\n",
    "from xgboost import XGBRegressor\n",
    "\n",
    "from sklearn.model_selection import train_test_split\n",
    "from sklearn.metrics import root_mean_squared_error"
   ]
  },
  {
   "cell_type": "markdown",
   "metadata": {},
   "source": [
    "### __Setup__"
   ]
  },
  {
   "cell_type": "code",
   "execution_count": 9,
   "metadata": {},
   "outputs": [],
   "source": [
    "# We import the data:\n",
    "X, y = get_train_data()\n",
    "\n",
    "# We put the label to the log to help the model:\n",
    "X_encoded, y_log = _encode(X, y)\n",
    "\n",
    "# Pipeline creation:\n",
    "model = XGBRegressor(\n",
    "        n_estimators=100,\n",
    "        learning_rate=0.1,\n",
    "        max_depth=6,\n",
    "        random_state=42\n",
    "    )"
   ]
  },
  {
   "cell_type": "markdown",
   "metadata": {},
   "source": [
    "### __Model prediction__"
   ]
  },
  {
   "cell_type": "code",
   "execution_count": 10,
   "metadata": {},
   "outputs": [
    {
     "name": "stdout",
     "output_type": "stream",
     "text": [
      "The RMSE is 0.13453803415959517.\n"
     ]
    }
   ],
   "source": [
    "# Train test split\n",
    "X_train, X_test, y_train, y_test = train_test_split(X_encoded, y_log, \n",
    "                                                    test_size=0.4, \n",
    "                                                    random_state=42)\n",
    "\n",
    "# Model fit\n",
    "model.fit(X_train, y_train)\n",
    "\n",
    "# Model predict\n",
    "y_pred = model.predict(X_test)\n",
    "\n",
    "# Error estimation\n",
    "error = root_mean_squared_error(y_test, y_pred)\n",
    "print(f'The RMSE is {error}.')"
   ]
  },
  {
   "cell_type": "markdown",
   "metadata": {},
   "source": [
    "### __Test Data Prediction__"
   ]
  },
  {
   "cell_type": "code",
   "execution_count": 18,
   "metadata": {},
   "outputs": [],
   "source": [
    "test_data = pd.read_csv('data/test.csv')\n",
    "\n",
    "# Preprocess the test data using the same pipeline, and make sure the columns \n",
    "# of the training set are the same as the columns of the test set:\n",
    "test_data_encoded = _encode(test_data).reindex(columns=X_encoded.columns, \n",
    "                                               fill_value=0)\n",
    "\n",
    "# Make predictions on the test data\n",
    "test_prediction = model.predict(test_data_encoded)\n",
    "predictions = np.exp(test_prediction)"
   ]
  },
  {
   "cell_type": "markdown",
   "metadata": {},
   "source": [
    "### __Output Extraction__"
   ]
  },
  {
   "cell_type": "code",
   "execution_count": 20,
   "metadata": {},
   "outputs": [],
   "source": [
    "results = pd.DataFrame(\n",
    "    dict(\n",
    "        Id=test_data['Id'],\n",
    "        SalePrice=predictions,\n",
    "    )\n",
    ")\n",
    "results.to_csv(\"submission_XGB_v1.csv\", index=False)"
   ]
  }
 ],
 "metadata": {
  "kernelspec": {
   "display_name": "kaggle_env",
   "language": "python",
   "name": "python3"
  },
  "language_info": {
   "codemirror_mode": {
    "name": "ipython",
    "version": 3
   },
   "file_extension": ".py",
   "mimetype": "text/x-python",
   "name": "python",
   "nbconvert_exporter": "python",
   "pygments_lexer": "ipython3",
   "version": "3.9.21"
  }
 },
 "nbformat": 4,
 "nbformat_minor": 2
}
